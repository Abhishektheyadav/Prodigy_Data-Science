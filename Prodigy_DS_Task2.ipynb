{
  "cells": [
    {
      "cell_type": "code",
      "execution_count": 1,
      "metadata": {
        "id": "MKITIZilzz5K"
      },
      "outputs": [],
      "source": [
        "import pandas as pd\n",
        "import matplotlib.pyplot as plt\n",
        "import numpy as np\n",
        "import seaborn as sns"
      ]
    },
    {
      "cell_type": "code",
      "execution_count": 2,
      "metadata": {
        "id": "mPaGP67F0uVF"
      },
      "outputs": [],
      "source": [
        "df=pd.read_csv('/content/drive/MyDrive/Prodigy Datasets/Prodigy Datasets Task 2/train.csv')"
      ]
    },
    {
      "cell_type": "code",
      "execution_count": 3,
      "metadata": {
        "colab": {
          "base_uri": "https://localhost:8080/",
          "height": 206
        },
        "id": "rnp0xqh53ER8",
        "outputId": "7dc5d533-aeff-4c9d-f82a-309385091f36"
      },
      "outputs": [
        {
          "output_type": "execute_result",
          "data": {
            "text/plain": [
              "   PassengerId  Survived  Pclass  \\\n",
              "0            1         0       3   \n",
              "1            2         1       1   \n",
              "2            3         1       3   \n",
              "3            4         1       1   \n",
              "4            5         0       3   \n",
              "\n",
              "                                                Name     Sex   Age  SibSp  \\\n",
              "0                            Braund, Mr. Owen Harris    male  22.0      1   \n",
              "1  Cumings, Mrs. John Bradley (Florence Briggs Th...  female  38.0      1   \n",
              "2                             Heikkinen, Miss. Laina  female  26.0      0   \n",
              "3       Futrelle, Mrs. Jacques Heath (Lily May Peel)  female  35.0      1   \n",
              "4                           Allen, Mr. William Henry    male  35.0      0   \n",
              "\n",
              "   Parch            Ticket     Fare Cabin Embarked  \n",
              "0      0         A/5 21171   7.2500   NaN        S  \n",
              "1      0          PC 17599  71.2833   C85        C  \n",
              "2      0  STON/O2. 3101282   7.9250   NaN        S  \n",
              "3      0            113803  53.1000  C123        S  \n",
              "4      0            373450   8.0500   NaN        S  "
            ],
            "text/html": [
              "\n",
              "  <div id=\"df-c443ca18-bb4e-4e5b-937a-e73b96b3b6ee\" class=\"colab-df-container\">\n",
              "    <div>\n",
              "<style scoped>\n",
              "    .dataframe tbody tr th:only-of-type {\n",
              "        vertical-align: middle;\n",
              "    }\n",
              "\n",
              "    .dataframe tbody tr th {\n",
              "        vertical-align: top;\n",
              "    }\n",
              "\n",
              "    .dataframe thead th {\n",
              "        text-align: right;\n",
              "    }\n",
              "</style>\n",
              "<table border=\"1\" class=\"dataframe\">\n",
              "  <thead>\n",
              "    <tr style=\"text-align: right;\">\n",
              "      <th></th>\n",
              "      <th>PassengerId</th>\n",
              "      <th>Survived</th>\n",
              "      <th>Pclass</th>\n",
              "      <th>Name</th>\n",
              "      <th>Sex</th>\n",
              "      <th>Age</th>\n",
              "      <th>SibSp</th>\n",
              "      <th>Parch</th>\n",
              "      <th>Ticket</th>\n",
              "      <th>Fare</th>\n",
              "      <th>Cabin</th>\n",
              "      <th>Embarked</th>\n",
              "    </tr>\n",
              "  </thead>\n",
              "  <tbody>\n",
              "    <tr>\n",
              "      <th>0</th>\n",
              "      <td>1</td>\n",
              "      <td>0</td>\n",
              "      <td>3</td>\n",
              "      <td>Braund, Mr. Owen Harris</td>\n",
              "      <td>male</td>\n",
              "      <td>22.0</td>\n",
              "      <td>1</td>\n",
              "      <td>0</td>\n",
              "      <td>A/5 21171</td>\n",
              "      <td>7.2500</td>\n",
              "      <td>NaN</td>\n",
              "      <td>S</td>\n",
              "    </tr>\n",
              "    <tr>\n",
              "      <th>1</th>\n",
              "      <td>2</td>\n",
              "      <td>1</td>\n",
              "      <td>1</td>\n",
              "      <td>Cumings, Mrs. John Bradley (Florence Briggs Th...</td>\n",
              "      <td>female</td>\n",
              "      <td>38.0</td>\n",
              "      <td>1</td>\n",
              "      <td>0</td>\n",
              "      <td>PC 17599</td>\n",
              "      <td>71.2833</td>\n",
              "      <td>C85</td>\n",
              "      <td>C</td>\n",
              "    </tr>\n",
              "    <tr>\n",
              "      <th>2</th>\n",
              "      <td>3</td>\n",
              "      <td>1</td>\n",
              "      <td>3</td>\n",
              "      <td>Heikkinen, Miss. Laina</td>\n",
              "      <td>female</td>\n",
              "      <td>26.0</td>\n",
              "      <td>0</td>\n",
              "      <td>0</td>\n",
              "      <td>STON/O2. 3101282</td>\n",
              "      <td>7.9250</td>\n",
              "      <td>NaN</td>\n",
              "      <td>S</td>\n",
              "    </tr>\n",
              "    <tr>\n",
              "      <th>3</th>\n",
              "      <td>4</td>\n",
              "      <td>1</td>\n",
              "      <td>1</td>\n",
              "      <td>Futrelle, Mrs. Jacques Heath (Lily May Peel)</td>\n",
              "      <td>female</td>\n",
              "      <td>35.0</td>\n",
              "      <td>1</td>\n",
              "      <td>0</td>\n",
              "      <td>113803</td>\n",
              "      <td>53.1000</td>\n",
              "      <td>C123</td>\n",
              "      <td>S</td>\n",
              "    </tr>\n",
              "    <tr>\n",
              "      <th>4</th>\n",
              "      <td>5</td>\n",
              "      <td>0</td>\n",
              "      <td>3</td>\n",
              "      <td>Allen, Mr. William Henry</td>\n",
              "      <td>male</td>\n",
              "      <td>35.0</td>\n",
              "      <td>0</td>\n",
              "      <td>0</td>\n",
              "      <td>373450</td>\n",
              "      <td>8.0500</td>\n",
              "      <td>NaN</td>\n",
              "      <td>S</td>\n",
              "    </tr>\n",
              "  </tbody>\n",
              "</table>\n",
              "</div>\n",
              "    <div class=\"colab-df-buttons\">\n",
              "\n",
              "  <div class=\"colab-df-container\">\n",
              "    <button class=\"colab-df-convert\" onclick=\"convertToInteractive('df-c443ca18-bb4e-4e5b-937a-e73b96b3b6ee')\"\n",
              "            title=\"Convert this dataframe to an interactive table.\"\n",
              "            style=\"display:none;\">\n",
              "\n",
              "  <svg xmlns=\"http://www.w3.org/2000/svg\" height=\"24px\" viewBox=\"0 -960 960 960\">\n",
              "    <path d=\"M120-120v-720h720v720H120Zm60-500h600v-160H180v160Zm220 220h160v-160H400v160Zm0 220h160v-160H400v160ZM180-400h160v-160H180v160Zm440 0h160v-160H620v160ZM180-180h160v-160H180v160Zm440 0h160v-160H620v160Z\"/>\n",
              "  </svg>\n",
              "    </button>\n",
              "\n",
              "  <style>\n",
              "    .colab-df-container {\n",
              "      display:flex;\n",
              "      gap: 12px;\n",
              "    }\n",
              "\n",
              "    .colab-df-convert {\n",
              "      background-color: #E8F0FE;\n",
              "      border: none;\n",
              "      border-radius: 50%;\n",
              "      cursor: pointer;\n",
              "      display: none;\n",
              "      fill: #1967D2;\n",
              "      height: 32px;\n",
              "      padding: 0 0 0 0;\n",
              "      width: 32px;\n",
              "    }\n",
              "\n",
              "    .colab-df-convert:hover {\n",
              "      background-color: #E2EBFA;\n",
              "      box-shadow: 0px 1px 2px rgba(60, 64, 67, 0.3), 0px 1px 3px 1px rgba(60, 64, 67, 0.15);\n",
              "      fill: #174EA6;\n",
              "    }\n",
              "\n",
              "    .colab-df-buttons div {\n",
              "      margin-bottom: 4px;\n",
              "    }\n",
              "\n",
              "    [theme=dark] .colab-df-convert {\n",
              "      background-color: #3B4455;\n",
              "      fill: #D2E3FC;\n",
              "    }\n",
              "\n",
              "    [theme=dark] .colab-df-convert:hover {\n",
              "      background-color: #434B5C;\n",
              "      box-shadow: 0px 1px 3px 1px rgba(0, 0, 0, 0.15);\n",
              "      filter: drop-shadow(0px 1px 2px rgba(0, 0, 0, 0.3));\n",
              "      fill: #FFFFFF;\n",
              "    }\n",
              "  </style>\n",
              "\n",
              "    <script>\n",
              "      const buttonEl =\n",
              "        document.querySelector('#df-c443ca18-bb4e-4e5b-937a-e73b96b3b6ee button.colab-df-convert');\n",
              "      buttonEl.style.display =\n",
              "        google.colab.kernel.accessAllowed ? 'block' : 'none';\n",
              "\n",
              "      async function convertToInteractive(key) {\n",
              "        const element = document.querySelector('#df-c443ca18-bb4e-4e5b-937a-e73b96b3b6ee');\n",
              "        const dataTable =\n",
              "          await google.colab.kernel.invokeFunction('convertToInteractive',\n",
              "                                                    [key], {});\n",
              "        if (!dataTable) return;\n",
              "\n",
              "        const docLinkHtml = 'Like what you see? Visit the ' +\n",
              "          '<a target=\"_blank\" href=https://colab.research.google.com/notebooks/data_table.ipynb>data table notebook</a>'\n",
              "          + ' to learn more about interactive tables.';\n",
              "        element.innerHTML = '';\n",
              "        dataTable['output_type'] = 'display_data';\n",
              "        await google.colab.output.renderOutput(dataTable, element);\n",
              "        const docLink = document.createElement('div');\n",
              "        docLink.innerHTML = docLinkHtml;\n",
              "        element.appendChild(docLink);\n",
              "      }\n",
              "    </script>\n",
              "  </div>\n",
              "\n",
              "\n",
              "<div id=\"df-f5a17434-c594-4cd7-8ecb-ba27ac31ce98\">\n",
              "  <button class=\"colab-df-quickchart\" onclick=\"quickchart('df-f5a17434-c594-4cd7-8ecb-ba27ac31ce98')\"\n",
              "            title=\"Suggest charts\"\n",
              "            style=\"display:none;\">\n",
              "\n",
              "<svg xmlns=\"http://www.w3.org/2000/svg\" height=\"24px\"viewBox=\"0 0 24 24\"\n",
              "     width=\"24px\">\n",
              "    <g>\n",
              "        <path d=\"M19 3H5c-1.1 0-2 .9-2 2v14c0 1.1.9 2 2 2h14c1.1 0 2-.9 2-2V5c0-1.1-.9-2-2-2zM9 17H7v-7h2v7zm4 0h-2V7h2v10zm4 0h-2v-4h2v4z\"/>\n",
              "    </g>\n",
              "</svg>\n",
              "  </button>\n",
              "\n",
              "<style>\n",
              "  .colab-df-quickchart {\n",
              "      --bg-color: #E8F0FE;\n",
              "      --fill-color: #1967D2;\n",
              "      --hover-bg-color: #E2EBFA;\n",
              "      --hover-fill-color: #174EA6;\n",
              "      --disabled-fill-color: #AAA;\n",
              "      --disabled-bg-color: #DDD;\n",
              "  }\n",
              "\n",
              "  [theme=dark] .colab-df-quickchart {\n",
              "      --bg-color: #3B4455;\n",
              "      --fill-color: #D2E3FC;\n",
              "      --hover-bg-color: #434B5C;\n",
              "      --hover-fill-color: #FFFFFF;\n",
              "      --disabled-bg-color: #3B4455;\n",
              "      --disabled-fill-color: #666;\n",
              "  }\n",
              "\n",
              "  .colab-df-quickchart {\n",
              "    background-color: var(--bg-color);\n",
              "    border: none;\n",
              "    border-radius: 50%;\n",
              "    cursor: pointer;\n",
              "    display: none;\n",
              "    fill: var(--fill-color);\n",
              "    height: 32px;\n",
              "    padding: 0;\n",
              "    width: 32px;\n",
              "  }\n",
              "\n",
              "  .colab-df-quickchart:hover {\n",
              "    background-color: var(--hover-bg-color);\n",
              "    box-shadow: 0 1px 2px rgba(60, 64, 67, 0.3), 0 1px 3px 1px rgba(60, 64, 67, 0.15);\n",
              "    fill: var(--button-hover-fill-color);\n",
              "  }\n",
              "\n",
              "  .colab-df-quickchart-complete:disabled,\n",
              "  .colab-df-quickchart-complete:disabled:hover {\n",
              "    background-color: var(--disabled-bg-color);\n",
              "    fill: var(--disabled-fill-color);\n",
              "    box-shadow: none;\n",
              "  }\n",
              "\n",
              "  .colab-df-spinner {\n",
              "    border: 2px solid var(--fill-color);\n",
              "    border-color: transparent;\n",
              "    border-bottom-color: var(--fill-color);\n",
              "    animation:\n",
              "      spin 1s steps(1) infinite;\n",
              "  }\n",
              "\n",
              "  @keyframes spin {\n",
              "    0% {\n",
              "      border-color: transparent;\n",
              "      border-bottom-color: var(--fill-color);\n",
              "      border-left-color: var(--fill-color);\n",
              "    }\n",
              "    20% {\n",
              "      border-color: transparent;\n",
              "      border-left-color: var(--fill-color);\n",
              "      border-top-color: var(--fill-color);\n",
              "    }\n",
              "    30% {\n",
              "      border-color: transparent;\n",
              "      border-left-color: var(--fill-color);\n",
              "      border-top-color: var(--fill-color);\n",
              "      border-right-color: var(--fill-color);\n",
              "    }\n",
              "    40% {\n",
              "      border-color: transparent;\n",
              "      border-right-color: var(--fill-color);\n",
              "      border-top-color: var(--fill-color);\n",
              "    }\n",
              "    60% {\n",
              "      border-color: transparent;\n",
              "      border-right-color: var(--fill-color);\n",
              "    }\n",
              "    80% {\n",
              "      border-color: transparent;\n",
              "      border-right-color: var(--fill-color);\n",
              "      border-bottom-color: var(--fill-color);\n",
              "    }\n",
              "    90% {\n",
              "      border-color: transparent;\n",
              "      border-bottom-color: var(--fill-color);\n",
              "    }\n",
              "  }\n",
              "</style>\n",
              "\n",
              "  <script>\n",
              "    async function quickchart(key) {\n",
              "      const quickchartButtonEl =\n",
              "        document.querySelector('#' + key + ' button');\n",
              "      quickchartButtonEl.disabled = true;  // To prevent multiple clicks.\n",
              "      quickchartButtonEl.classList.add('colab-df-spinner');\n",
              "      try {\n",
              "        const charts = await google.colab.kernel.invokeFunction(\n",
              "            'suggestCharts', [key], {});\n",
              "      } catch (error) {\n",
              "        console.error('Error during call to suggestCharts:', error);\n",
              "      }\n",
              "      quickchartButtonEl.classList.remove('colab-df-spinner');\n",
              "      quickchartButtonEl.classList.add('colab-df-quickchart-complete');\n",
              "    }\n",
              "    (() => {\n",
              "      let quickchartButtonEl =\n",
              "        document.querySelector('#df-f5a17434-c594-4cd7-8ecb-ba27ac31ce98 button');\n",
              "      quickchartButtonEl.style.display =\n",
              "        google.colab.kernel.accessAllowed ? 'block' : 'none';\n",
              "    })();\n",
              "  </script>\n",
              "</div>\n",
              "\n",
              "    </div>\n",
              "  </div>\n"
            ]
          },
          "metadata": {},
          "execution_count": 3
        }
      ],
      "source": [
        "df.head()\n"
      ]
    },
    {
      "cell_type": "code",
      "execution_count": 4,
      "metadata": {
        "colab": {
          "base_uri": "https://localhost:8080/"
        },
        "id": "ZuC6pL0jR4YC",
        "outputId": "315c904c-787f-4eca-d741-a0bb99115a96"
      },
      "outputs": [
        {
          "output_type": "execute_result",
          "data": {
            "text/plain": [
              "count    714.000000\n",
              "mean      29.699118\n",
              "std       14.526497\n",
              "min        0.420000\n",
              "25%       20.125000\n",
              "50%       28.000000\n",
              "75%       38.000000\n",
              "max       80.000000\n",
              "Name: Age, dtype: float64"
            ]
          },
          "metadata": {},
          "execution_count": 4
        }
      ],
      "source": [
        "df['Age'].describe()"
      ]
    },
    {
      "cell_type": "code",
      "execution_count": 5,
      "metadata": {
        "colab": {
          "base_uri": "https://localhost:8080/",
          "height": 447
        },
        "id": "-0ykiU8sSgXg",
        "outputId": "822b24d1-ac66-4c0b-9b6d-bff837fb297c"
      },
      "outputs": [
        {
          "output_type": "execute_result",
          "data": {
            "text/plain": [
              "<Axes: ylabel='Frequency'>"
            ]
          },
          "metadata": {},
          "execution_count": 5
        },
        {
          "output_type": "display_data",
          "data": {
            "text/plain": [
              "<Figure size 640x480 with 1 Axes>"
            ],
            "image/png": "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\n"
          },
          "metadata": {}
        }
      ],
      "source": [
        "df['Age'].plot.hist(bins=20)"
      ]
    },
    {
      "cell_type": "code",
      "execution_count": 6,
      "metadata": {
        "colab": {
          "base_uri": "https://localhost:8080/",
          "height": 447
        },
        "id": "8YE1H4huSgaQ",
        "outputId": "1ddba1b6-b746-4609-998d-c7ef1b7cab77"
      },
      "outputs": [
        {
          "output_type": "execute_result",
          "data": {
            "text/plain": [
              "<Axes: ylabel='Density'>"
            ]
          },
          "metadata": {},
          "execution_count": 6
        },
        {
          "output_type": "display_data",
          "data": {
            "text/plain": [
              "<Figure size 640x480 with 1 Axes>"
            ],
            "image/png": "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\n"
          },
          "metadata": {}
        }
      ],
      "source": [
        "df['Age'].plot.kde()"
      ]
    },
    {
      "cell_type": "code",
      "execution_count": 7,
      "metadata": {
        "colab": {
          "base_uri": "https://localhost:8080/"
        },
        "id": "9RLPFFnVSgdC",
        "outputId": "be0c41da-ba91-4748-d0c4-f831fa98adc3"
      },
      "outputs": [
        {
          "output_type": "execute_result",
          "data": {
            "text/plain": [
              "0.38910778230082704"
            ]
          },
          "metadata": {},
          "execution_count": 7
        }
      ],
      "source": [
        "df['Age'].skew()"
      ]
    },
    {
      "cell_type": "code",
      "execution_count": 8,
      "metadata": {
        "colab": {
          "base_uri": "https://localhost:8080/",
          "height": 447
        },
        "id": "PvhuAbmxSgjy",
        "outputId": "0e1d4273-61cb-4264-84be-3318462ede03"
      },
      "outputs": [
        {
          "output_type": "execute_result",
          "data": {
            "text/plain": [
              "<Axes: >"
            ]
          },
          "metadata": {},
          "execution_count": 8
        },
        {
          "output_type": "display_data",
          "data": {
            "text/plain": [
              "<Figure size 640x480 with 1 Axes>"
            ],
            "image/png": "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\n"
          },
          "metadata": {}
        }
      ],
      "source": [
        "df['Age'].plot(kind='box')"
      ]
    },
    {
      "cell_type": "code",
      "execution_count": 9,
      "metadata": {
        "colab": {
          "base_uri": "https://localhost:8080/",
          "height": 300
        },
        "id": "4AE_MHCH6YlV",
        "outputId": "5ecca0e3-32ee-45c1-e034-33ad234b9aac"
      },
      "outputs": [
        {
          "output_type": "execute_result",
          "data": {
            "text/plain": [
              "     PassengerId  Survived  Pclass                                  Name  \\\n",
              "33            34         0       2                 Wheadon, Mr. Edward H   \n",
              "96            97         0       1             Goldschmidt, Mr. George B   \n",
              "116          117         0       3                  Connors, Mr. Patrick   \n",
              "493          494         0       1               Artagaveytia, Mr. Ramon   \n",
              "630          631         1       1  Barkworth, Mr. Algernon Henry Wilson   \n",
              "672          673         0       2           Mitchell, Mr. Henry Michael   \n",
              "745          746         0       1          Crosby, Capt. Edward Gifford   \n",
              "851          852         0       3                   Svensson, Mr. Johan   \n",
              "\n",
              "      Sex   Age  SibSp  Parch      Ticket     Fare Cabin Embarked  \n",
              "33   male  66.0      0      0  C.A. 24579  10.5000   NaN        S  \n",
              "96   male  71.0      0      0    PC 17754  34.6542    A5        C  \n",
              "116  male  70.5      0      0      370369   7.7500   NaN        Q  \n",
              "493  male  71.0      0      0    PC 17609  49.5042   NaN        C  \n",
              "630  male  80.0      0      0       27042  30.0000   A23        S  \n",
              "672  male  70.0      0      0  C.A. 24580  10.5000   NaN        S  \n",
              "745  male  70.0      1      1   WE/P 5735  71.0000   B22        S  \n",
              "851  male  74.0      0      0      347060   7.7750   NaN        S  "
            ],
            "text/html": [
              "\n",
              "  <div id=\"df-d6925069-d87a-45e1-a87f-80a24758ebe8\" class=\"colab-df-container\">\n",
              "    <div>\n",
              "<style scoped>\n",
              "    .dataframe tbody tr th:only-of-type {\n",
              "        vertical-align: middle;\n",
              "    }\n",
              "\n",
              "    .dataframe tbody tr th {\n",
              "        vertical-align: top;\n",
              "    }\n",
              "\n",
              "    .dataframe thead th {\n",
              "        text-align: right;\n",
              "    }\n",
              "</style>\n",
              "<table border=\"1\" class=\"dataframe\">\n",
              "  <thead>\n",
              "    <tr style=\"text-align: right;\">\n",
              "      <th></th>\n",
              "      <th>PassengerId</th>\n",
              "      <th>Survived</th>\n",
              "      <th>Pclass</th>\n",
              "      <th>Name</th>\n",
              "      <th>Sex</th>\n",
              "      <th>Age</th>\n",
              "      <th>SibSp</th>\n",
              "      <th>Parch</th>\n",
              "      <th>Ticket</th>\n",
              "      <th>Fare</th>\n",
              "      <th>Cabin</th>\n",
              "      <th>Embarked</th>\n",
              "    </tr>\n",
              "  </thead>\n",
              "  <tbody>\n",
              "    <tr>\n",
              "      <th>33</th>\n",
              "      <td>34</td>\n",
              "      <td>0</td>\n",
              "      <td>2</td>\n",
              "      <td>Wheadon, Mr. Edward H</td>\n",
              "      <td>male</td>\n",
              "      <td>66.0</td>\n",
              "      <td>0</td>\n",
              "      <td>0</td>\n",
              "      <td>C.A. 24579</td>\n",
              "      <td>10.5000</td>\n",
              "      <td>NaN</td>\n",
              "      <td>S</td>\n",
              "    </tr>\n",
              "    <tr>\n",
              "      <th>96</th>\n",
              "      <td>97</td>\n",
              "      <td>0</td>\n",
              "      <td>1</td>\n",
              "      <td>Goldschmidt, Mr. George B</td>\n",
              "      <td>male</td>\n",
              "      <td>71.0</td>\n",
              "      <td>0</td>\n",
              "      <td>0</td>\n",
              "      <td>PC 17754</td>\n",
              "      <td>34.6542</td>\n",
              "      <td>A5</td>\n",
              "      <td>C</td>\n",
              "    </tr>\n",
              "    <tr>\n",
              "      <th>116</th>\n",
              "      <td>117</td>\n",
              "      <td>0</td>\n",
              "      <td>3</td>\n",
              "      <td>Connors, Mr. Patrick</td>\n",
              "      <td>male</td>\n",
              "      <td>70.5</td>\n",
              "      <td>0</td>\n",
              "      <td>0</td>\n",
              "      <td>370369</td>\n",
              "      <td>7.7500</td>\n",
              "      <td>NaN</td>\n",
              "      <td>Q</td>\n",
              "    </tr>\n",
              "    <tr>\n",
              "      <th>493</th>\n",
              "      <td>494</td>\n",
              "      <td>0</td>\n",
              "      <td>1</td>\n",
              "      <td>Artagaveytia, Mr. Ramon</td>\n",
              "      <td>male</td>\n",
              "      <td>71.0</td>\n",
              "      <td>0</td>\n",
              "      <td>0</td>\n",
              "      <td>PC 17609</td>\n",
              "      <td>49.5042</td>\n",
              "      <td>NaN</td>\n",
              "      <td>C</td>\n",
              "    </tr>\n",
              "    <tr>\n",
              "      <th>630</th>\n",
              "      <td>631</td>\n",
              "      <td>1</td>\n",
              "      <td>1</td>\n",
              "      <td>Barkworth, Mr. Algernon Henry Wilson</td>\n",
              "      <td>male</td>\n",
              "      <td>80.0</td>\n",
              "      <td>0</td>\n",
              "      <td>0</td>\n",
              "      <td>27042</td>\n",
              "      <td>30.0000</td>\n",
              "      <td>A23</td>\n",
              "      <td>S</td>\n",
              "    </tr>\n",
              "    <tr>\n",
              "      <th>672</th>\n",
              "      <td>673</td>\n",
              "      <td>0</td>\n",
              "      <td>2</td>\n",
              "      <td>Mitchell, Mr. Henry Michael</td>\n",
              "      <td>male</td>\n",
              "      <td>70.0</td>\n",
              "      <td>0</td>\n",
              "      <td>0</td>\n",
              "      <td>C.A. 24580</td>\n",
              "      <td>10.5000</td>\n",
              "      <td>NaN</td>\n",
              "      <td>S</td>\n",
              "    </tr>\n",
              "    <tr>\n",
              "      <th>745</th>\n",
              "      <td>746</td>\n",
              "      <td>0</td>\n",
              "      <td>1</td>\n",
              "      <td>Crosby, Capt. Edward Gifford</td>\n",
              "      <td>male</td>\n",
              "      <td>70.0</td>\n",
              "      <td>1</td>\n",
              "      <td>1</td>\n",
              "      <td>WE/P 5735</td>\n",
              "      <td>71.0000</td>\n",
              "      <td>B22</td>\n",
              "      <td>S</td>\n",
              "    </tr>\n",
              "    <tr>\n",
              "      <th>851</th>\n",
              "      <td>852</td>\n",
              "      <td>0</td>\n",
              "      <td>3</td>\n",
              "      <td>Svensson, Mr. Johan</td>\n",
              "      <td>male</td>\n",
              "      <td>74.0</td>\n",
              "      <td>0</td>\n",
              "      <td>0</td>\n",
              "      <td>347060</td>\n",
              "      <td>7.7750</td>\n",
              "      <td>NaN</td>\n",
              "      <td>S</td>\n",
              "    </tr>\n",
              "  </tbody>\n",
              "</table>\n",
              "</div>\n",
              "    <div class=\"colab-df-buttons\">\n",
              "\n",
              "  <div class=\"colab-df-container\">\n",
              "    <button class=\"colab-df-convert\" onclick=\"convertToInteractive('df-d6925069-d87a-45e1-a87f-80a24758ebe8')\"\n",
              "            title=\"Convert this dataframe to an interactive table.\"\n",
              "            style=\"display:none;\">\n",
              "\n",
              "  <svg xmlns=\"http://www.w3.org/2000/svg\" height=\"24px\" viewBox=\"0 -960 960 960\">\n",
              "    <path d=\"M120-120v-720h720v720H120Zm60-500h600v-160H180v160Zm220 220h160v-160H400v160Zm0 220h160v-160H400v160ZM180-400h160v-160H180v160Zm440 0h160v-160H620v160ZM180-180h160v-160H180v160Zm440 0h160v-160H620v160Z\"/>\n",
              "  </svg>\n",
              "    </button>\n",
              "\n",
              "  <style>\n",
              "    .colab-df-container {\n",
              "      display:flex;\n",
              "      gap: 12px;\n",
              "    }\n",
              "\n",
              "    .colab-df-convert {\n",
              "      background-color: #E8F0FE;\n",
              "      border: none;\n",
              "      border-radius: 50%;\n",
              "      cursor: pointer;\n",
              "      display: none;\n",
              "      fill: #1967D2;\n",
              "      height: 32px;\n",
              "      padding: 0 0 0 0;\n",
              "      width: 32px;\n",
              "    }\n",
              "\n",
              "    .colab-df-convert:hover {\n",
              "      background-color: #E2EBFA;\n",
              "      box-shadow: 0px 1px 2px rgba(60, 64, 67, 0.3), 0px 1px 3px 1px rgba(60, 64, 67, 0.15);\n",
              "      fill: #174EA6;\n",
              "    }\n",
              "\n",
              "    .colab-df-buttons div {\n",
              "      margin-bottom: 4px;\n",
              "    }\n",
              "\n",
              "    [theme=dark] .colab-df-convert {\n",
              "      background-color: #3B4455;\n",
              "      fill: #D2E3FC;\n",
              "    }\n",
              "\n",
              "    [theme=dark] .colab-df-convert:hover {\n",
              "      background-color: #434B5C;\n",
              "      box-shadow: 0px 1px 3px 1px rgba(0, 0, 0, 0.15);\n",
              "      filter: drop-shadow(0px 1px 2px rgba(0, 0, 0, 0.3));\n",
              "      fill: #FFFFFF;\n",
              "    }\n",
              "  </style>\n",
              "\n",
              "    <script>\n",
              "      const buttonEl =\n",
              "        document.querySelector('#df-d6925069-d87a-45e1-a87f-80a24758ebe8 button.colab-df-convert');\n",
              "      buttonEl.style.display =\n",
              "        google.colab.kernel.accessAllowed ? 'block' : 'none';\n",
              "\n",
              "      async function convertToInteractive(key) {\n",
              "        const element = document.querySelector('#df-d6925069-d87a-45e1-a87f-80a24758ebe8');\n",
              "        const dataTable =\n",
              "          await google.colab.kernel.invokeFunction('convertToInteractive',\n",
              "                                                    [key], {});\n",
              "        if (!dataTable) return;\n",
              "\n",
              "        const docLinkHtml = 'Like what you see? Visit the ' +\n",
              "          '<a target=\"_blank\" href=https://colab.research.google.com/notebooks/data_table.ipynb>data table notebook</a>'\n",
              "          + ' to learn more about interactive tables.';\n",
              "        element.innerHTML = '';\n",
              "        dataTable['output_type'] = 'display_data';\n",
              "        await google.colab.output.renderOutput(dataTable, element);\n",
              "        const docLink = document.createElement('div');\n",
              "        docLink.innerHTML = docLinkHtml;\n",
              "        element.appendChild(docLink);\n",
              "      }\n",
              "    </script>\n",
              "  </div>\n",
              "\n",
              "\n",
              "<div id=\"df-eb982562-a28b-4b2b-b08f-d69e9b6a14ec\">\n",
              "  <button class=\"colab-df-quickchart\" onclick=\"quickchart('df-eb982562-a28b-4b2b-b08f-d69e9b6a14ec')\"\n",
              "            title=\"Suggest charts\"\n",
              "            style=\"display:none;\">\n",
              "\n",
              "<svg xmlns=\"http://www.w3.org/2000/svg\" height=\"24px\"viewBox=\"0 0 24 24\"\n",
              "     width=\"24px\">\n",
              "    <g>\n",
              "        <path d=\"M19 3H5c-1.1 0-2 .9-2 2v14c0 1.1.9 2 2 2h14c1.1 0 2-.9 2-2V5c0-1.1-.9-2-2-2zM9 17H7v-7h2v7zm4 0h-2V7h2v10zm4 0h-2v-4h2v4z\"/>\n",
              "    </g>\n",
              "</svg>\n",
              "  </button>\n",
              "\n",
              "<style>\n",
              "  .colab-df-quickchart {\n",
              "      --bg-color: #E8F0FE;\n",
              "      --fill-color: #1967D2;\n",
              "      --hover-bg-color: #E2EBFA;\n",
              "      --hover-fill-color: #174EA6;\n",
              "      --disabled-fill-color: #AAA;\n",
              "      --disabled-bg-color: #DDD;\n",
              "  }\n",
              "\n",
              "  [theme=dark] .colab-df-quickchart {\n",
              "      --bg-color: #3B4455;\n",
              "      --fill-color: #D2E3FC;\n",
              "      --hover-bg-color: #434B5C;\n",
              "      --hover-fill-color: #FFFFFF;\n",
              "      --disabled-bg-color: #3B4455;\n",
              "      --disabled-fill-color: #666;\n",
              "  }\n",
              "\n",
              "  .colab-df-quickchart {\n",
              "    background-color: var(--bg-color);\n",
              "    border: none;\n",
              "    border-radius: 50%;\n",
              "    cursor: pointer;\n",
              "    display: none;\n",
              "    fill: var(--fill-color);\n",
              "    height: 32px;\n",
              "    padding: 0;\n",
              "    width: 32px;\n",
              "  }\n",
              "\n",
              "  .colab-df-quickchart:hover {\n",
              "    background-color: var(--hover-bg-color);\n",
              "    box-shadow: 0 1px 2px rgba(60, 64, 67, 0.3), 0 1px 3px 1px rgba(60, 64, 67, 0.15);\n",
              "    fill: var(--button-hover-fill-color);\n",
              "  }\n",
              "\n",
              "  .colab-df-quickchart-complete:disabled,\n",
              "  .colab-df-quickchart-complete:disabled:hover {\n",
              "    background-color: var(--disabled-bg-color);\n",
              "    fill: var(--disabled-fill-color);\n",
              "    box-shadow: none;\n",
              "  }\n",
              "\n",
              "  .colab-df-spinner {\n",
              "    border: 2px solid var(--fill-color);\n",
              "    border-color: transparent;\n",
              "    border-bottom-color: var(--fill-color);\n",
              "    animation:\n",
              "      spin 1s steps(1) infinite;\n",
              "  }\n",
              "\n",
              "  @keyframes spin {\n",
              "    0% {\n",
              "      border-color: transparent;\n",
              "      border-bottom-color: var(--fill-color);\n",
              "      border-left-color: var(--fill-color);\n",
              "    }\n",
              "    20% {\n",
              "      border-color: transparent;\n",
              "      border-left-color: var(--fill-color);\n",
              "      border-top-color: var(--fill-color);\n",
              "    }\n",
              "    30% {\n",
              "      border-color: transparent;\n",
              "      border-left-color: var(--fill-color);\n",
              "      border-top-color: var(--fill-color);\n",
              "      border-right-color: var(--fill-color);\n",
              "    }\n",
              "    40% {\n",
              "      border-color: transparent;\n",
              "      border-right-color: var(--fill-color);\n",
              "      border-top-color: var(--fill-color);\n",
              "    }\n",
              "    60% {\n",
              "      border-color: transparent;\n",
              "      border-right-color: var(--fill-color);\n",
              "    }\n",
              "    80% {\n",
              "      border-color: transparent;\n",
              "      border-right-color: var(--fill-color);\n",
              "      border-bottom-color: var(--fill-color);\n",
              "    }\n",
              "    90% {\n",
              "      border-color: transparent;\n",
              "      border-bottom-color: var(--fill-color);\n",
              "    }\n",
              "  }\n",
              "</style>\n",
              "\n",
              "  <script>\n",
              "    async function quickchart(key) {\n",
              "      const quickchartButtonEl =\n",
              "        document.querySelector('#' + key + ' button');\n",
              "      quickchartButtonEl.disabled = true;  // To prevent multiple clicks.\n",
              "      quickchartButtonEl.classList.add('colab-df-spinner');\n",
              "      try {\n",
              "        const charts = await google.colab.kernel.invokeFunction(\n",
              "            'suggestCharts', [key], {});\n",
              "      } catch (error) {\n",
              "        console.error('Error during call to suggestCharts:', error);\n",
              "      }\n",
              "      quickchartButtonEl.classList.remove('colab-df-spinner');\n",
              "      quickchartButtonEl.classList.add('colab-df-quickchart-complete');\n",
              "    }\n",
              "    (() => {\n",
              "      let quickchartButtonEl =\n",
              "        document.querySelector('#df-eb982562-a28b-4b2b-b08f-d69e9b6a14ec button');\n",
              "      quickchartButtonEl.style.display =\n",
              "        google.colab.kernel.accessAllowed ? 'block' : 'none';\n",
              "    })();\n",
              "  </script>\n",
              "</div>\n",
              "\n",
              "    </div>\n",
              "  </div>\n"
            ]
          },
          "metadata": {},
          "execution_count": 9
        }
      ],
      "source": [
        "df[df['Age'] > 65]"
      ]
    },
    {
      "cell_type": "code",
      "execution_count": 10,
      "metadata": {
        "colab": {
          "base_uri": "https://localhost:8080/"
        },
        "id": "SAivI9fL790t",
        "outputId": "a2f61f9d-c4ce-441b-f2cd-cc2ef41ca03c"
      },
      "outputs": [
        {
          "output_type": "execute_result",
          "data": {
            "text/plain": [
              "177"
            ]
          },
          "metadata": {},
          "execution_count": 10
        }
      ],
      "source": [
        "df['Age'].isnull().sum()/len(df['Age'])\n",
        "df['Age'].isnull().sum()"
      ]
    },
    {
      "cell_type": "code",
      "execution_count": 11,
      "metadata": {
        "colab": {
          "base_uri": "https://localhost:8080/"
        },
        "id": "sYwupk3b8rkG",
        "outputId": "7e62a84f-2c0a-44be-bb0b-51684c411621"
      },
      "outputs": [
        {
          "output_type": "execute_result",
          "data": {
            "text/plain": [
              "0.19865319865319866"
            ]
          },
          "metadata": {},
          "execution_count": 11
        }
      ],
      "source": [
        "df['Age'].isnull().sum()/len(df['Age'])"
      ]
    },
    {
      "cell_type": "markdown",
      "metadata": {
        "id": "NLAr1FOx90Eu"
      },
      "source": [
        "###Fare\n",
        "conclusions\n",
        "The data is positively skewed\n",
        "The Fare column contains grp fare and not individual fare and this might be an issue.\n",
        "we need to create a new column which has Individual Fare\n"
      ]
    },
    {
      "cell_type": "code",
      "execution_count": 12,
      "metadata": {
        "colab": {
          "base_uri": "https://localhost:8080/"
        },
        "id": "3TxrZuwB9X69",
        "outputId": "4e7b583f-3a60-49d2-eebc-93398fa2ad91"
      },
      "outputs": [
        {
          "output_type": "execute_result",
          "data": {
            "text/plain": [
              "count    891.000000\n",
              "mean      32.204208\n",
              "std       49.693429\n",
              "min        0.000000\n",
              "25%        7.910400\n",
              "50%       14.454200\n",
              "75%       31.000000\n",
              "max      512.329200\n",
              "Name: Fare, dtype: float64"
            ]
          },
          "metadata": {},
          "execution_count": 12
        }
      ],
      "source": [
        "df['Fare'].describe()\n"
      ]
    },
    {
      "cell_type": "code",
      "execution_count": 13,
      "metadata": {
        "id": "ek6UIxfx9X93",
        "colab": {
          "base_uri": "https://localhost:8080/",
          "height": 447
        },
        "outputId": "548a4d8c-a1e9-402f-9aff-d67315646b50"
      },
      "outputs": [
        {
          "output_type": "execute_result",
          "data": {
            "text/plain": [
              "<Axes: ylabel='Frequency'>"
            ]
          },
          "metadata": {},
          "execution_count": 13
        },
        {
          "output_type": "display_data",
          "data": {
            "text/plain": [
              "<Figure size 640x480 with 1 Axes>"
            ],
            "image/png": "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\n"
          },
          "metadata": {}
        }
      ],
      "source": [
        "df['Fare'].plot.hist()"
      ]
    },
    {
      "cell_type": "code",
      "execution_count": 14,
      "metadata": {
        "id": "pUtWswaR9YAV",
        "colab": {
          "base_uri": "https://localhost:8080/",
          "height": 447
        },
        "outputId": "f92b2253-3937-41bd-d804-0f3828135968"
      },
      "outputs": [
        {
          "output_type": "execute_result",
          "data": {
            "text/plain": [
              "<Axes: ylabel='Density'>"
            ]
          },
          "metadata": {},
          "execution_count": 14
        },
        {
          "output_type": "display_data",
          "data": {
            "text/plain": [
              "<Figure size 640x480 with 1 Axes>"
            ],
            "image/png": "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\n"
          },
          "metadata": {}
        }
      ],
      "source": [
        "df['Fare'].plot.kde()"
      ]
    },
    {
      "cell_type": "code",
      "execution_count": 15,
      "metadata": {
        "id": "OHcs-ntx9YDJ",
        "colab": {
          "base_uri": "https://localhost:8080/"
        },
        "outputId": "3d6d93ba-74ac-43b2-fa0f-f49c3e5ef742"
      },
      "outputs": [
        {
          "output_type": "execute_result",
          "data": {
            "text/plain": [
              "4.787316519674893"
            ]
          },
          "metadata": {},
          "execution_count": 15
        }
      ],
      "source": [
        "df['Fare'].skew()"
      ]
    },
    {
      "cell_type": "code",
      "source": [
        "df['Fare'].plot.box()"
      ],
      "metadata": {
        "colab": {
          "base_uri": "https://localhost:8080/",
          "height": 447
        },
        "id": "kmwst60dACJW",
        "outputId": "2243f50c-8cfd-4838-b98e-7e94ec03856f"
      },
      "execution_count": 16,
      "outputs": [
        {
          "output_type": "execute_result",
          "data": {
            "text/plain": [
              "<Axes: >"
            ]
          },
          "metadata": {},
          "execution_count": 16
        },
        {
          "output_type": "display_data",
          "data": {
            "text/plain": [
              "<Figure size 640x480 with 1 Axes>"
            ],
            "image/png": "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\n"
          },
          "metadata": {}
        }
      ]
    },
    {
      "cell_type": "code",
      "source": [
        "df[df['Fare']>250]"
      ],
      "metadata": {
        "colab": {
          "base_uri": "https://localhost:8080/",
          "height": 331
        },
        "id": "jko86VspACMm",
        "outputId": "278bd0dc-e15e-4c27-c98d-96a5d9b8f53f"
      },
      "execution_count": 17,
      "outputs": [
        {
          "output_type": "execute_result",
          "data": {
            "text/plain": [
              "     PassengerId  Survived  Pclass                                   Name  \\\n",
              "27            28         0       1         Fortune, Mr. Charles Alexander   \n",
              "88            89         1       1             Fortune, Miss. Mabel Helen   \n",
              "258          259         1       1                       Ward, Miss. Anna   \n",
              "311          312         1       1             Ryerson, Miss. Emily Borie   \n",
              "341          342         1       1         Fortune, Miss. Alice Elizabeth   \n",
              "438          439         0       1                      Fortune, Mr. Mark   \n",
              "679          680         1       1     Cardeza, Mr. Thomas Drake Martinez   \n",
              "737          738         1       1                 Lesurer, Mr. Gustave J   \n",
              "742          743         1       1  Ryerson, Miss. Susan Parker \"Suzette\"   \n",
              "\n",
              "        Sex   Age  SibSp  Parch    Ticket      Fare            Cabin Embarked  \n",
              "27     male  19.0      3      2     19950  263.0000      C23 C25 C27        S  \n",
              "88   female  23.0      3      2     19950  263.0000      C23 C25 C27        S  \n",
              "258  female  35.0      0      0  PC 17755  512.3292              NaN        C  \n",
              "311  female  18.0      2      2  PC 17608  262.3750  B57 B59 B63 B66        C  \n",
              "341  female  24.0      3      2     19950  263.0000      C23 C25 C27        S  \n",
              "438    male  64.0      1      4     19950  263.0000      C23 C25 C27        S  \n",
              "679    male  36.0      0      1  PC 17755  512.3292      B51 B53 B55        C  \n",
              "737    male  35.0      0      0  PC 17755  512.3292             B101        C  \n",
              "742  female  21.0      2      2  PC 17608  262.3750  B57 B59 B63 B66        C  "
            ],
            "text/html": [
              "\n",
              "  <div id=\"df-ebb6b83d-8548-41a0-a308-ffa28f117c12\" class=\"colab-df-container\">\n",
              "    <div>\n",
              "<style scoped>\n",
              "    .dataframe tbody tr th:only-of-type {\n",
              "        vertical-align: middle;\n",
              "    }\n",
              "\n",
              "    .dataframe tbody tr th {\n",
              "        vertical-align: top;\n",
              "    }\n",
              "\n",
              "    .dataframe thead th {\n",
              "        text-align: right;\n",
              "    }\n",
              "</style>\n",
              "<table border=\"1\" class=\"dataframe\">\n",
              "  <thead>\n",
              "    <tr style=\"text-align: right;\">\n",
              "      <th></th>\n",
              "      <th>PassengerId</th>\n",
              "      <th>Survived</th>\n",
              "      <th>Pclass</th>\n",
              "      <th>Name</th>\n",
              "      <th>Sex</th>\n",
              "      <th>Age</th>\n",
              "      <th>SibSp</th>\n",
              "      <th>Parch</th>\n",
              "      <th>Ticket</th>\n",
              "      <th>Fare</th>\n",
              "      <th>Cabin</th>\n",
              "      <th>Embarked</th>\n",
              "    </tr>\n",
              "  </thead>\n",
              "  <tbody>\n",
              "    <tr>\n",
              "      <th>27</th>\n",
              "      <td>28</td>\n",
              "      <td>0</td>\n",
              "      <td>1</td>\n",
              "      <td>Fortune, Mr. Charles Alexander</td>\n",
              "      <td>male</td>\n",
              "      <td>19.0</td>\n",
              "      <td>3</td>\n",
              "      <td>2</td>\n",
              "      <td>19950</td>\n",
              "      <td>263.0000</td>\n",
              "      <td>C23 C25 C27</td>\n",
              "      <td>S</td>\n",
              "    </tr>\n",
              "    <tr>\n",
              "      <th>88</th>\n",
              "      <td>89</td>\n",
              "      <td>1</td>\n",
              "      <td>1</td>\n",
              "      <td>Fortune, Miss. Mabel Helen</td>\n",
              "      <td>female</td>\n",
              "      <td>23.0</td>\n",
              "      <td>3</td>\n",
              "      <td>2</td>\n",
              "      <td>19950</td>\n",
              "      <td>263.0000</td>\n",
              "      <td>C23 C25 C27</td>\n",
              "      <td>S</td>\n",
              "    </tr>\n",
              "    <tr>\n",
              "      <th>258</th>\n",
              "      <td>259</td>\n",
              "      <td>1</td>\n",
              "      <td>1</td>\n",
              "      <td>Ward, Miss. Anna</td>\n",
              "      <td>female</td>\n",
              "      <td>35.0</td>\n",
              "      <td>0</td>\n",
              "      <td>0</td>\n",
              "      <td>PC 17755</td>\n",
              "      <td>512.3292</td>\n",
              "      <td>NaN</td>\n",
              "      <td>C</td>\n",
              "    </tr>\n",
              "    <tr>\n",
              "      <th>311</th>\n",
              "      <td>312</td>\n",
              "      <td>1</td>\n",
              "      <td>1</td>\n",
              "      <td>Ryerson, Miss. Emily Borie</td>\n",
              "      <td>female</td>\n",
              "      <td>18.0</td>\n",
              "      <td>2</td>\n",
              "      <td>2</td>\n",
              "      <td>PC 17608</td>\n",
              "      <td>262.3750</td>\n",
              "      <td>B57 B59 B63 B66</td>\n",
              "      <td>C</td>\n",
              "    </tr>\n",
              "    <tr>\n",
              "      <th>341</th>\n",
              "      <td>342</td>\n",
              "      <td>1</td>\n",
              "      <td>1</td>\n",
              "      <td>Fortune, Miss. Alice Elizabeth</td>\n",
              "      <td>female</td>\n",
              "      <td>24.0</td>\n",
              "      <td>3</td>\n",
              "      <td>2</td>\n",
              "      <td>19950</td>\n",
              "      <td>263.0000</td>\n",
              "      <td>C23 C25 C27</td>\n",
              "      <td>S</td>\n",
              "    </tr>\n",
              "    <tr>\n",
              "      <th>438</th>\n",
              "      <td>439</td>\n",
              "      <td>0</td>\n",
              "      <td>1</td>\n",
              "      <td>Fortune, Mr. Mark</td>\n",
              "      <td>male</td>\n",
              "      <td>64.0</td>\n",
              "      <td>1</td>\n",
              "      <td>4</td>\n",
              "      <td>19950</td>\n",
              "      <td>263.0000</td>\n",
              "      <td>C23 C25 C27</td>\n",
              "      <td>S</td>\n",
              "    </tr>\n",
              "    <tr>\n",
              "      <th>679</th>\n",
              "      <td>680</td>\n",
              "      <td>1</td>\n",
              "      <td>1</td>\n",
              "      <td>Cardeza, Mr. Thomas Drake Martinez</td>\n",
              "      <td>male</td>\n",
              "      <td>36.0</td>\n",
              "      <td>0</td>\n",
              "      <td>1</td>\n",
              "      <td>PC 17755</td>\n",
              "      <td>512.3292</td>\n",
              "      <td>B51 B53 B55</td>\n",
              "      <td>C</td>\n",
              "    </tr>\n",
              "    <tr>\n",
              "      <th>737</th>\n",
              "      <td>738</td>\n",
              "      <td>1</td>\n",
              "      <td>1</td>\n",
              "      <td>Lesurer, Mr. Gustave J</td>\n",
              "      <td>male</td>\n",
              "      <td>35.0</td>\n",
              "      <td>0</td>\n",
              "      <td>0</td>\n",
              "      <td>PC 17755</td>\n",
              "      <td>512.3292</td>\n",
              "      <td>B101</td>\n",
              "      <td>C</td>\n",
              "    </tr>\n",
              "    <tr>\n",
              "      <th>742</th>\n",
              "      <td>743</td>\n",
              "      <td>1</td>\n",
              "      <td>1</td>\n",
              "      <td>Ryerson, Miss. Susan Parker \"Suzette\"</td>\n",
              "      <td>female</td>\n",
              "      <td>21.0</td>\n",
              "      <td>2</td>\n",
              "      <td>2</td>\n",
              "      <td>PC 17608</td>\n",
              "      <td>262.3750</td>\n",
              "      <td>B57 B59 B63 B66</td>\n",
              "      <td>C</td>\n",
              "    </tr>\n",
              "  </tbody>\n",
              "</table>\n",
              "</div>\n",
              "    <div class=\"colab-df-buttons\">\n",
              "\n",
              "  <div class=\"colab-df-container\">\n",
              "    <button class=\"colab-df-convert\" onclick=\"convertToInteractive('df-ebb6b83d-8548-41a0-a308-ffa28f117c12')\"\n",
              "            title=\"Convert this dataframe to an interactive table.\"\n",
              "            style=\"display:none;\">\n",
              "\n",
              "  <svg xmlns=\"http://www.w3.org/2000/svg\" height=\"24px\" viewBox=\"0 -960 960 960\">\n",
              "    <path d=\"M120-120v-720h720v720H120Zm60-500h600v-160H180v160Zm220 220h160v-160H400v160Zm0 220h160v-160H400v160ZM180-400h160v-160H180v160Zm440 0h160v-160H620v160ZM180-180h160v-160H180v160Zm440 0h160v-160H620v160Z\"/>\n",
              "  </svg>\n",
              "    </button>\n",
              "\n",
              "  <style>\n",
              "    .colab-df-container {\n",
              "      display:flex;\n",
              "      gap: 12px;\n",
              "    }\n",
              "\n",
              "    .colab-df-convert {\n",
              "      background-color: #E8F0FE;\n",
              "      border: none;\n",
              "      border-radius: 50%;\n",
              "      cursor: pointer;\n",
              "      display: none;\n",
              "      fill: #1967D2;\n",
              "      height: 32px;\n",
              "      padding: 0 0 0 0;\n",
              "      width: 32px;\n",
              "    }\n",
              "\n",
              "    .colab-df-convert:hover {\n",
              "      background-color: #E2EBFA;\n",
              "      box-shadow: 0px 1px 2px rgba(60, 64, 67, 0.3), 0px 1px 3px 1px rgba(60, 64, 67, 0.15);\n",
              "      fill: #174EA6;\n",
              "    }\n",
              "\n",
              "    .colab-df-buttons div {\n",
              "      margin-bottom: 4px;\n",
              "    }\n",
              "\n",
              "    [theme=dark] .colab-df-convert {\n",
              "      background-color: #3B4455;\n",
              "      fill: #D2E3FC;\n",
              "    }\n",
              "\n",
              "    [theme=dark] .colab-df-convert:hover {\n",
              "      background-color: #434B5C;\n",
              "      box-shadow: 0px 1px 3px 1px rgba(0, 0, 0, 0.15);\n",
              "      filter: drop-shadow(0px 1px 2px rgba(0, 0, 0, 0.3));\n",
              "      fill: #FFFFFF;\n",
              "    }\n",
              "  </style>\n",
              "\n",
              "    <script>\n",
              "      const buttonEl =\n",
              "        document.querySelector('#df-ebb6b83d-8548-41a0-a308-ffa28f117c12 button.colab-df-convert');\n",
              "      buttonEl.style.display =\n",
              "        google.colab.kernel.accessAllowed ? 'block' : 'none';\n",
              "\n",
              "      async function convertToInteractive(key) {\n",
              "        const element = document.querySelector('#df-ebb6b83d-8548-41a0-a308-ffa28f117c12');\n",
              "        const dataTable =\n",
              "          await google.colab.kernel.invokeFunction('convertToInteractive',\n",
              "                                                    [key], {});\n",
              "        if (!dataTable) return;\n",
              "\n",
              "        const docLinkHtml = 'Like what you see? Visit the ' +\n",
              "          '<a target=\"_blank\" href=https://colab.research.google.com/notebooks/data_table.ipynb>data table notebook</a>'\n",
              "          + ' to learn more about interactive tables.';\n",
              "        element.innerHTML = '';\n",
              "        dataTable['output_type'] = 'display_data';\n",
              "        await google.colab.output.renderOutput(dataTable, element);\n",
              "        const docLink = document.createElement('div');\n",
              "        docLink.innerHTML = docLinkHtml;\n",
              "        element.appendChild(docLink);\n",
              "      }\n",
              "    </script>\n",
              "  </div>\n",
              "\n",
              "\n",
              "<div id=\"df-7fe777ad-59b7-420a-998f-9178332a3cab\">\n",
              "  <button class=\"colab-df-quickchart\" onclick=\"quickchart('df-7fe777ad-59b7-420a-998f-9178332a3cab')\"\n",
              "            title=\"Suggest charts\"\n",
              "            style=\"display:none;\">\n",
              "\n",
              "<svg xmlns=\"http://www.w3.org/2000/svg\" height=\"24px\"viewBox=\"0 0 24 24\"\n",
              "     width=\"24px\">\n",
              "    <g>\n",
              "        <path d=\"M19 3H5c-1.1 0-2 .9-2 2v14c0 1.1.9 2 2 2h14c1.1 0 2-.9 2-2V5c0-1.1-.9-2-2-2zM9 17H7v-7h2v7zm4 0h-2V7h2v10zm4 0h-2v-4h2v4z\"/>\n",
              "    </g>\n",
              "</svg>\n",
              "  </button>\n",
              "\n",
              "<style>\n",
              "  .colab-df-quickchart {\n",
              "      --bg-color: #E8F0FE;\n",
              "      --fill-color: #1967D2;\n",
              "      --hover-bg-color: #E2EBFA;\n",
              "      --hover-fill-color: #174EA6;\n",
              "      --disabled-fill-color: #AAA;\n",
              "      --disabled-bg-color: #DDD;\n",
              "  }\n",
              "\n",
              "  [theme=dark] .colab-df-quickchart {\n",
              "      --bg-color: #3B4455;\n",
              "      --fill-color: #D2E3FC;\n",
              "      --hover-bg-color: #434B5C;\n",
              "      --hover-fill-color: #FFFFFF;\n",
              "      --disabled-bg-color: #3B4455;\n",
              "      --disabled-fill-color: #666;\n",
              "  }\n",
              "\n",
              "  .colab-df-quickchart {\n",
              "    background-color: var(--bg-color);\n",
              "    border: none;\n",
              "    border-radius: 50%;\n",
              "    cursor: pointer;\n",
              "    display: none;\n",
              "    fill: var(--fill-color);\n",
              "    height: 32px;\n",
              "    padding: 0;\n",
              "    width: 32px;\n",
              "  }\n",
              "\n",
              "  .colab-df-quickchart:hover {\n",
              "    background-color: var(--hover-bg-color);\n",
              "    box-shadow: 0 1px 2px rgba(60, 64, 67, 0.3), 0 1px 3px 1px rgba(60, 64, 67, 0.15);\n",
              "    fill: var(--button-hover-fill-color);\n",
              "  }\n",
              "\n",
              "  .colab-df-quickchart-complete:disabled,\n",
              "  .colab-df-quickchart-complete:disabled:hover {\n",
              "    background-color: var(--disabled-bg-color);\n",
              "    fill: var(--disabled-fill-color);\n",
              "    box-shadow: none;\n",
              "  }\n",
              "\n",
              "  .colab-df-spinner {\n",
              "    border: 2px solid var(--fill-color);\n",
              "    border-color: transparent;\n",
              "    border-bottom-color: var(--fill-color);\n",
              "    animation:\n",
              "      spin 1s steps(1) infinite;\n",
              "  }\n",
              "\n",
              "  @keyframes spin {\n",
              "    0% {\n",
              "      border-color: transparent;\n",
              "      border-bottom-color: var(--fill-color);\n",
              "      border-left-color: var(--fill-color);\n",
              "    }\n",
              "    20% {\n",
              "      border-color: transparent;\n",
              "      border-left-color: var(--fill-color);\n",
              "      border-top-color: var(--fill-color);\n",
              "    }\n",
              "    30% {\n",
              "      border-color: transparent;\n",
              "      border-left-color: var(--fill-color);\n",
              "      border-top-color: var(--fill-color);\n",
              "      border-right-color: var(--fill-color);\n",
              "    }\n",
              "    40% {\n",
              "      border-color: transparent;\n",
              "      border-right-color: var(--fill-color);\n",
              "      border-top-color: var(--fill-color);\n",
              "    }\n",
              "    60% {\n",
              "      border-color: transparent;\n",
              "      border-right-color: var(--fill-color);\n",
              "    }\n",
              "    80% {\n",
              "      border-color: transparent;\n",
              "      border-right-color: var(--fill-color);\n",
              "      border-bottom-color: var(--fill-color);\n",
              "    }\n",
              "    90% {\n",
              "      border-color: transparent;\n",
              "      border-bottom-color: var(--fill-color);\n",
              "    }\n",
              "  }\n",
              "</style>\n",
              "\n",
              "  <script>\n",
              "    async function quickchart(key) {\n",
              "      const quickchartButtonEl =\n",
              "        document.querySelector('#' + key + ' button');\n",
              "      quickchartButtonEl.disabled = true;  // To prevent multiple clicks.\n",
              "      quickchartButtonEl.classList.add('colab-df-spinner');\n",
              "      try {\n",
              "        const charts = await google.colab.kernel.invokeFunction(\n",
              "            'suggestCharts', [key], {});\n",
              "      } catch (error) {\n",
              "        console.error('Error during call to suggestCharts:', error);\n",
              "      }\n",
              "      quickchartButtonEl.classList.remove('colab-df-spinner');\n",
              "      quickchartButtonEl.classList.add('colab-df-quickchart-complete');\n",
              "    }\n",
              "    (() => {\n",
              "      let quickchartButtonEl =\n",
              "        document.querySelector('#df-7fe777ad-59b7-420a-998f-9178332a3cab button');\n",
              "      quickchartButtonEl.style.display =\n",
              "        google.colab.kernel.accessAllowed ? 'block' : 'none';\n",
              "    })();\n",
              "  </script>\n",
              "</div>\n",
              "\n",
              "    </div>\n",
              "  </div>\n"
            ]
          },
          "metadata": {},
          "execution_count": 17
        }
      ]
    },
    {
      "cell_type": "code",
      "execution_count": 18,
      "metadata": {
        "id": "67XN7Jy09YFE",
        "colab": {
          "base_uri": "https://localhost:8080/"
        },
        "outputId": "fbf0ba50-9f58-4a4e-8ba8-f20fa36aa451"
      },
      "outputs": [
        {
          "output_type": "execute_result",
          "data": {
            "text/plain": [
              "0"
            ]
          },
          "metadata": {},
          "execution_count": 18
        }
      ],
      "source": [
        "df['Fare'].isnull().sum()"
      ]
    },
    {
      "cell_type": "code",
      "execution_count": 20,
      "metadata": {
        "colab": {
          "base_uri": "https://localhost:8080/",
          "height": 536
        },
        "id": "maOoy4Vx4b3k",
        "outputId": "e797cdb1-b162-4045-ec88-c0632d65a0d6"
      },
      "outputs": [
        {
          "output_type": "display_data",
          "data": {
            "text/plain": [
              "<Figure size 1000x600 with 2 Axes>"
            ],
            "image/png": "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\n"
          },
          "metadata": {}
        }
      ],
      "source": [
        "# Create a figure with two subplots (1 row, 2 columns)\n",
        "fig, axs = plt.subplots(1, 2, figsize=(10, 6))\n",
        "\n",
        "# Plot the ratio of survived to dead people\n",
        "axs[0].pie(df['Survived'].value_counts(), labels=['Dead', 'Survived'], autopct=\"%2.2f\",\n",
        "           colors=['#F47174', '#6FC276'], textprops={'fontsize': 13})\n",
        "axs[0].set_title(\"Ratio of Survived to Dead People\")\n",
        "\n",
        "# Plot the ratio of male and female survivors\n",
        "gender_counts = df[df['Survived'] == 1]['Sex'].value_counts()\n",
        "axs[1].pie(gender_counts, labels=gender_counts.index, autopct='%1.1f%%',\n",
        "           colors=['#fdb0c0', '#93CAED'], textprops={'fontsize': 13})\n",
        "axs[1].set_title(\"Ratio of Male and Female Survivors\")\n",
        "\n",
        "# Adjust spacing between subplots\n",
        "plt.tight_layout()\n",
        "\n",
        "# Show the plots\n",
        "plt.show()"
      ]
    },
    {
      "cell_type": "code",
      "source": [
        "# Create a histogram-like bar graph for age distribution\n",
        "plt.figure(figsize=(10, 6))\n",
        "plt.hist(df['Age'].dropna(), bins=20, color='#AF8FE9', edgecolor='black')\n",
        "plt.title(\"Distribution of Age\")\n",
        "plt.xlabel(\"Age\")\n",
        "plt.ylabel(\"Frequency\")\n",
        "plt.show()"
      ],
      "metadata": {
        "colab": {
          "base_uri": "https://localhost:8080/",
          "height": 564
        },
        "id": "R-PuU4chi28Y",
        "outputId": "95fb609d-ea07-40f9-e80a-6b842df70223"
      },
      "execution_count": 21,
      "outputs": [
        {
          "output_type": "display_data",
          "data": {
            "text/plain": [
              "<Figure size 1000x600 with 1 Axes>"
            ],
            "image/png": "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\n"
          },
          "metadata": {}
        }
      ]
    },
    {
      "cell_type": "code",
      "source": [
        "\n",
        "# Set up the figure size\n",
        "plt.figure(figsize=(14, 8))\n",
        "\n",
        "# Create a heatmap of the correlation matrix\n",
        "sns.heatmap(df.corr(), annot=True, cmap=\"Blues\")\n",
        "\n",
        "plt.title(\"Correlation Heatmap\")\n",
        "plt.xticks(fontsize=12)\n",
        "plt.yticks(fontsize=12)\n",
        "\n",
        "plt.show()"
      ],
      "metadata": {
        "colab": {
          "base_uri": "https://localhost:8080/",
          "height": 758
        },
        "id": "98KxFN2ajIfP",
        "outputId": "53927316-0425-4c19-c8db-ee508ce23333"
      },
      "execution_count": 24,
      "outputs": [
        {
          "output_type": "stream",
          "name": "stderr",
          "text": [
            "<ipython-input-24-a80e8acd0526>:5: FutureWarning: The default value of numeric_only in DataFrame.corr is deprecated. In a future version, it will default to False. Select only valid columns or specify the value of numeric_only to silence this warning.\n",
            "  sns.heatmap(df.corr(), annot=True, cmap=\"Blues\")\n"
          ]
        },
        {
          "output_type": "display_data",
          "data": {
            "text/plain": [
              "<Figure size 1400x800 with 2 Axes>"
            ],
            "image/png": "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\n"
          },
          "metadata": {}
        }
      ]
    }
  ],
  "metadata": {
    "colab": {
      "provenance": []
    },
    "kernelspec": {
      "display_name": "Python 3",
      "name": "python3"
    },
    "language_info": {
      "name": "python"
    }Lll
  },
  "nbformat": 4,
  "nbformat_minor": 0
}
